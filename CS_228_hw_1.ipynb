{
  "nbformat": 4,
  "nbformat_minor": 0,
  "metadata": {
    "colab": {
      "provenance": [],
      "collapsed_sections": [],
      "authorship_tag": "ABX9TyPJW/nCXpp1z3CtGRCRpv+3",
      "include_colab_link": true
    },
    "kernelspec": {
      "name": "python3",
      "display_name": "Python 3"
    },
    "language_info": {
      "name": "python"
    }
  },
  "cells": [
    {
      "cell_type": "markdown",
      "metadata": {
        "id": "view-in-github",
        "colab_type": "text"
      },
      "source": [
        "<a href=\"https://colab.research.google.com/github/XuRui314/CS228-PGM/blob/main/CS_228_hw_1.ipynb\" target=\"_parent\"><img src=\"https://colab.research.google.com/assets/colab-badge.svg\" alt=\"Open In Colab\"/></a>"
      ]
    },
    {
      "cell_type": "code",
      "source": [
        "# preparation\n",
        "from google.colab import drive\n",
        "drive.mount('/content/drive')"
      ],
      "metadata": {
        "colab": {
          "base_uri": "https://localhost:8080/"
        },
        "id": "oyNgix8X1sDz",
        "outputId": "efad09f6-0dfa-4d21-b94f-5177548c8008"
      },
      "execution_count": 2,
      "outputs": [
        {
          "output_type": "stream",
          "name": "stdout",
          "text": [
            "Mounted at /content/drive\n"
          ]
        }
      ]
    },
    {
      "cell_type": "code",
      "source": [
        "import os\n",
        "os.chdir(\"/content/drive/MyDrive\")\n",
        "!ls"
      ],
      "metadata": {
        "colab": {
          "base_uri": "https://localhost:8080/"
        },
        "id": "3GFu1vk01793",
        "outputId": "9932b6e7-64a5-4352-970d-598ce323a320"
      },
      "execution_count": 6,
      "outputs": [
        {
          "output_type": "stream",
          "name": "stdout",
          "text": [
            " Advertising.csv\t\t     iris_analysis\n",
            " AI\t\t\t\t     kaggle\n",
            "'Colab Notebooks'\t\t     kaggle.json\n",
            " CS228\t\t\t\t     Pytorch-implementation-for-OCSGA\n",
            " dataset\t\t\t     results_per_run.json\n",
            "'E-Commerce Data | Kaggle (1).png'   Test-Models\n",
            "'E-Commerce Data | Kaggle.png'\t     TomBERT\n",
            " exploiting-BERT-thru-translation    UMT\n"
          ]
        }
      ]
    },
    {
      "cell_type": "code",
      "source": [
        "# 第一次运行才要下载\n",
        "# !git clone https://github.com/scheeloong/CS228.git"
      ],
      "metadata": {
        "colab": {
          "base_uri": "https://localhost:8080/"
        },
        "id": "WhhbpsQe1tIC",
        "outputId": "eaebdb96-4c10-4cdb-f4d5-cda2c0af8c69"
      },
      "execution_count": 7,
      "outputs": [
        {
          "output_type": "stream",
          "name": "stdout",
          "text": [
            "Cloning into 'CS228'...\n",
            "remote: Enumerating objects: 507, done.\u001b[K\n",
            "remote: Total 507 (delta 0), reused 0 (delta 0), pack-reused 507\u001b[K\n",
            "Receiving objects: 100% (507/507), 74.60 MiB | 15.77 MiB/s, done.\n",
            "Resolving deltas: 100% (199/199), done.\n",
            "Checking out files: 100% (177/177), done.\n"
          ]
        }
      ]
    },
    {
      "cell_type": "code",
      "source": [
        "# 设置第一次作业的工作区\n",
        "import os\n",
        "os.chdir(\"/content/drive/MyDrive/CS228/pa1\")\n",
        "!ls"
      ],
      "metadata": {
        "colab": {
          "base_uri": "https://localhost:8080/"
        },
        "id": "1A72KhyY2jCo",
        "outputId": "5dddbd27-3e39-430e-f07c-2be17c1d1aed"
      },
      "execution_count": 8,
      "outputs": [
        {
          "output_type": "stream",
          "name": "stdout",
          "text": [
            "a4.png\t\t      CORRECTa7.png\t    q6.mat\n",
            "a5.png\t\t      FinalP1.pdf\t    q7.mat\n",
            "a6_hist_real.png      hw1.pdf\t\t    test.rtc\n",
            "CORRECTa4.png\t      P1.tex\t\t    trained_mnist_model\n",
            "CORRECTa5.png\t      pa1.py\t\t    W1HW.txt\n",
            "CORRECTa6Corrupt.png  Problem7BayesNet.JPG\n",
            "CORRECTa6Real.png     ps1\n"
          ]
        }
      ]
    },
    {
      "cell_type": "code",
      "execution_count": 12,
      "metadata": {
        "colab": {
          "base_uri": "https://localhost:8080/",
          "height": 116
        },
        "id": "MfOyeJ-T1R0C",
        "outputId": "615baa1f-789b-4b7c-a8a1-55303a0237db"
      },
      "outputs": [
        {
          "output_type": "display_data",
          "data": {
            "text/plain": [
              "<Figure size 432x288 with 5 Axes>"
            ],
            "image/png": "[encoded data removed]"
          },
          "metadata": {
            "needs_background": "light"
          }
        }
      ],
      "source": [
        "\"\"\"\n",
        "CS 228: Probabilistic Graphical Models\n",
        "Winter 2017\n",
        "Programming Assignment 1: Bayesian Networks\n",
        "Author: Aditya Grover\n",
        "\"\"\"\n",
        "\n",
        "import numpy as np \n",
        "import matplotlib.pyplot as plt\n",
        "import pickle as pkl\n",
        "from scipy.io import loadmat\n",
        "\n",
        "def plot_histogram(data, title='histogram', xlabel='value', ylabel='frequency', savefile='hist'):\n",
        "  '''\n",
        "  Plots a histogram.\n",
        "  '''\n",
        "\n",
        "  plt.figure()\n",
        "  plt.hist(data)\n",
        "  plt.xlabel(xlabel)\n",
        "  plt.ylabel(ylabel)\n",
        "  plt.title(title)\n",
        "  plt.savefig(savefile, bbox_inches='tight')\n",
        "  plt.show()\n",
        "  plt.close()\n",
        "\n",
        "  return\n",
        "\n",
        "# Output 1 with probability prob, otherwise return 0\n",
        "def sampleBinary(prob):\n",
        "  if np.random.random_sample() < prob:\n",
        "    return 1\n",
        "  else:\n",
        "    return 0\n",
        "\n",
        "def sampleZ(prior_func):\n",
        "\n",
        "  random_num = np.random.random_sample()\n",
        "  aggregate = 0.0\n",
        "\n",
        "  for i in range(25): # 25 values for both z1 and z2\n",
        "\n",
        "    val = i*0.25-3\n",
        "    aggregate += prior_func(val)\n",
        "\n",
        "    if random_num < aggregate:\n",
        "      return val\n",
        "\n",
        "  print(\"UFU :D\")\n",
        "  return -5\n",
        "\n",
        "def get_p_z1(z1_val):\n",
        "  '''\n",
        "  Computes the prior probability for variable z1 to take value z1_val.\n",
        "  '''\n",
        "\n",
        "  return bayes_net['prior_z1'][z1_val]\n",
        "\n",
        "def get_p_z2(z2_val):\n",
        "  '''\n",
        "  Computes the prior probability for variable z2 to take value z2_val.\n",
        "  '''\n",
        "\n",
        "  return bayes_net['prior_z2'][z2_val]\n",
        "\n",
        "def get_p_xk_cond_z1_z2(z1_val, z2_val, k):\n",
        "  '''\n",
        "  Computes the conditional likelihood of variable xk assumes value 1 \n",
        "  given z1 assumes value z1_val and z2 assumes value z2_val. \n",
        "  '''\n",
        "\n",
        "  return bayes_net['cond_likelihood'][(z1_val, z2_val)][0, k-1]\n",
        "\n",
        "def get_p_x_cond_z1_z2(z1_val, z2_val):\n",
        "  '''\n",
        "  TODO\n",
        "  '''\n",
        "  pass\n",
        "\n",
        "def get_pixels_sampled_from_p_x_joint_z1_z2():\n",
        "  \n",
        "  sampledZ1 = sampleZ(get_p_z1)\n",
        "  sampledZ2 = sampleZ(get_p_z2)\n",
        "\n",
        "  ans = np.array([])\n",
        "\n",
        "\n",
        "  for pixel in range(28*28):\n",
        "    ans = np.append(ans, sampleBinary(get_p_xk_cond_z1_z2(sampledZ1, sampledZ2, pixel)))\n",
        "  '''\n",
        "  TODO. Note that this function should only return the sampled values of pixel variables.\n",
        "  '''\n",
        "  return ans\n",
        "\n",
        "def get_conditional_expectation(data):\n",
        "  '''\n",
        "  TODO\n",
        "  '''\n",
        "  pass\n",
        "\n",
        "def q4():\n",
        "  '''\n",
        "  Plots the pixel variables sampled from the joint distribution as 28 x 28 images. Rest is TODO.\n",
        "  '''\n",
        "\n",
        "  plt.figure()\n",
        "  for i in range(5):\n",
        "      plt.subplot(1, 5, i+1)\n",
        "      plt.imshow(get_pixels_sampled_from_p_x_joint_z1_z2().reshape(28, 28), cmap='gray')\n",
        "      plt.title('Sample: ' + str(i+1))\n",
        "  plt.tight_layout()\n",
        "  plt.savefig('a4', bbox_inches='tight')\n",
        "  plt.show()\n",
        "  plt.close()\n",
        "\n",
        "  return\n",
        "\n",
        "def q5():\n",
        "  '''\n",
        "  Plots the expected images for each latent configuration on a 2D grid. Rest is TODO.\n",
        "  '''\n",
        "\n",
        "  canvas = np.empty((28*len(disc_z1), 28*len(disc_z2)))\n",
        "  for i, z1_val in enumerate(disc_z1):\n",
        "      for j, z2_val in enumerate(disc_z2):\n",
        "          canvas[(len(disc_z1)-i-1)*28:(len(disc_z2)-i)*28, j*28:(j+1)*28] = \\\n",
        "          get_p_x_cond_z1_z2(z1_val, z2_val).reshape(28, 28)\n",
        "\n",
        "  plt.figure()        \n",
        "  plt.imshow(canvas, cmap='gray')\n",
        "  plt.tight_layout()\n",
        "  plt.savefig('a5', bbox_inches='tight')\n",
        "  plt.show()\n",
        "  plt.close()\n",
        "\n",
        "  return\n",
        "\n",
        "def q6():\n",
        "  '''\n",
        "  Loads the data and plots the histograms. Rest is TODO.\n",
        "  '''\n",
        "\n",
        "  mat = loadmat('q6.mat')\n",
        "  val_data = mat['val_x']\n",
        "  test_data = mat['test_x']\n",
        "\n",
        "  '''\n",
        "  TODO\n",
        "  '''\n",
        "  \n",
        "  plot_histogram(real_marginal_log_likelihood, title='Histogram of marginal log-likelihood for real data',\n",
        "       xlabel='marginal log-likelihood', savefile='a6_hist_real')\n",
        "\n",
        "  plot_histogram(corrupt_marginal_log_likelihood, title='Histogram of marginal log-likelihood for corrupted data',\n",
        "    xlabel='marginal log-likelihood', savefile='a6_hist_corrupt')\n",
        "\n",
        "  return\n",
        "\n",
        "def q7():\n",
        "  '''\n",
        "  Loads the data and plots a color coded clustering of the conditional expectations. Rest is TODO.\n",
        "  '''\n",
        "\n",
        "  mat = loadmat('q7.mat')\n",
        "  data = mat['x']\n",
        "  labels = mat['y']\n",
        "\n",
        "  mean_z1, mean_z2 = get_conditional_expectation(data)\n",
        "\n",
        "  plt.figure() \n",
        "  plt.scatter(mean_z1, mean_z2, c=labels)\n",
        "  plt.colorbar()\n",
        "  plt.grid()\n",
        "  plt.savefig('a7', bbox_inches='tight')\n",
        "  plt.show()\n",
        "  plt.close()\n",
        "\n",
        "  return\n",
        "\n",
        "def load_model(model_file):\n",
        "  '''\n",
        "  Loads a default Bayesian network with latent variables (in this case, a variational autoencoder)\n",
        "  '''\n",
        "\n",
        "  with open('trained_mnist_model', 'rb') as infile:\n",
        "    cpts = pkl.load(infile, encoding='bytes')\n",
        "\n",
        "  model = {}\n",
        "  model['prior_z1'] = cpts[0]\n",
        "  model['prior_z2'] = cpts[1]\n",
        "  model['cond_likelihood'] = cpts[2]\n",
        "\n",
        "  return model\n",
        "\n",
        "def main():\n",
        "\n",
        "  global disc_z1, disc_z2\n",
        "  n_disc_z = 25\n",
        "  disc_z1 = np.linspace(-3, 3, n_disc_z)\n",
        "  disc_z2 = np.linspace(-3, 3, n_disc_z)\n",
        "\n",
        "  global bayes_net\n",
        "  bayes_net = load_model('trained_mnist_model')\n",
        "\n",
        "  '''\n",
        "  TODO: Using the above Bayesian Network model, complete the following parts.\n",
        "  '''\n",
        "  q4()\n",
        "  return\n",
        "  q5()\n",
        "  q6()\n",
        "  q7()\n",
        "\n",
        "  return\n",
        "\n",
        "if __name__== '__main__':\n",
        "\n",
        "  main()"
      ]
    },
    {
      "cell_type": "markdown",
      "source": [
        "## Start\n",
        "\n",
        "上面留了一份初始版，要是你想自己写一版可以直接用 :)"
      ],
      "metadata": {
        "id": "wRX4SXrz51-M"
      }
    },
    {
      "cell_type": "code",
      "source": [],
      "metadata": {
        "id": "RFGNflk51Xj9"
      },
      "execution_count": null,
      "outputs": []
    }
  ]
}